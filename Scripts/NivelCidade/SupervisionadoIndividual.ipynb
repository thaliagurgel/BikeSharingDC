{
 "cells": [
  {
   "cell_type": "code",
   "execution_count": 76,
   "metadata": {},
   "outputs": [
    {
     "data": {
      "text/html": [
       "<div>\n",
       "<style scoped>\n",
       "    .dataframe tbody tr th:only-of-type {\n",
       "        vertical-align: middle;\n",
       "    }\n",
       "\n",
       "    .dataframe tbody tr th {\n",
       "        vertical-align: top;\n",
       "    }\n",
       "\n",
       "    .dataframe thead th {\n",
       "        text-align: right;\n",
       "    }\n",
       "</style>\n",
       "<table border=\"1\" class=\"dataframe\">\n",
       "  <thead>\n",
       "    <tr style=\"text-align: right;\">\n",
       "      <th></th>\n",
       "      <th>0</th>\n",
       "      <th>1</th>\n",
       "      <th>2</th>\n",
       "      <th>3</th>\n",
       "      <th>4</th>\n",
       "      <th>5</th>\n",
       "    </tr>\n",
       "  </thead>\n",
       "  <tbody>\n",
       "    <tr>\n",
       "      <th>0</th>\n",
       "      <td>2.050771</td>\n",
       "      <td>0.977830</td>\n",
       "      <td>0.049840</td>\n",
       "      <td>-1.410145</td>\n",
       "      <td>1.051242</td>\n",
       "      <td>-1.666652</td>\n",
       "    </tr>\n",
       "    <tr>\n",
       "      <th>1</th>\n",
       "      <td>2.064797</td>\n",
       "      <td>0.976308</td>\n",
       "      <td>0.079005</td>\n",
       "      <td>-1.418398</td>\n",
       "      <td>0.950561</td>\n",
       "      <td>-1.650928</td>\n",
       "    </tr>\n",
       "    <tr>\n",
       "      <th>2</th>\n",
       "      <td>2.058173</td>\n",
       "      <td>0.981118</td>\n",
       "      <td>0.053372</td>\n",
       "      <td>-1.408293</td>\n",
       "      <td>0.911410</td>\n",
       "      <td>-1.647987</td>\n",
       "    </tr>\n",
       "    <tr>\n",
       "      <th>3</th>\n",
       "      <td>2.040588</td>\n",
       "      <td>0.989681</td>\n",
       "      <td>0.020455</td>\n",
       "      <td>-1.401765</td>\n",
       "      <td>0.857329</td>\n",
       "      <td>-1.648221</td>\n",
       "    </tr>\n",
       "    <tr>\n",
       "      <th>4</th>\n",
       "      <td>2.033143</td>\n",
       "      <td>0.996369</td>\n",
       "      <td>0.018578</td>\n",
       "      <td>-1.404627</td>\n",
       "      <td>0.795894</td>\n",
       "      <td>-1.639875</td>\n",
       "    </tr>\n",
       "  </tbody>\n",
       "</table>\n",
       "</div>"
      ],
      "text/plain": [
       "          0         1         2         3         4         5\n",
       "0  2.050771  0.977830  0.049840 -1.410145  1.051242 -1.666652\n",
       "1  2.064797  0.976308  0.079005 -1.418398  0.950561 -1.650928\n",
       "2  2.058173  0.981118  0.053372 -1.408293  0.911410 -1.647987\n",
       "3  2.040588  0.989681  0.020455 -1.401765  0.857329 -1.648221\n",
       "4  2.033143  0.996369  0.018578 -1.404627  0.795894 -1.639875"
      ]
     },
     "execution_count": 76,
     "metadata": {},
     "output_type": "execute_result"
    }
   ],
   "source": [
    "import pandas as pd\n",
    "# bikesDiscretizado1                   Base3\n",
    "# bikesDiscretizado2                   Base4\n",
    "# bikesDiscretizado1Normalizado        Base5\n",
    "# bikesDiscretizado2Normalizado        Base6\n",
    "# bikesDiscretizado1Normalizado25      Base7\n",
    "# bikesDiscretizado1Normalizado50      Base8\n",
    "# bikesDiscretizado2Normalizado25      Base9\n",
    "# bikesDiscretizado2Normalizado50      Base10\n",
    "\n",
    "\n",
    "D1 = pd.read_csv('C:/Users/John/Desktop/Mestrado/Dissertacao/ProjetoBikes/Experimentos/Cidade/bikesDiscretizado1.csv', sep=';');\n",
    "classeD1 = D1['qtd']\n",
    "D2 = pd.read_csv('C:/Users/John/Desktop/Mestrado/Dissertacao/ProjetoBikes/Experimentos/Cidade/bikesDiscretizado2.csv', sep=';');\n",
    "classeD2 = D2['qtd']\n",
    "\n",
    "arquivo = 'bikesDiscretizado1'\n",
    "CaminhoArquivo = 'C:/Users/John/Desktop/Mestrado/Dissertacao/ProjetoBikes/Experimentos/Cidade/bikes' + arquivo +'.csv'\n",
    "\n",
    "base = pd.read_csv(CaminhoArquivo, sep=';');\n",
    "base.head()"
   ]
  },
  {
   "cell_type": "code",
   "execution_count": 77,
   "metadata": {},
   "outputs": [],
   "source": [
    "import winsound\n",
    "def FimAlgoritmo():\n",
    "    winsound.Beep(1500,500);\n",
    "    winsound.Beep(1500,500);\n",
    "\n",
    "def FimMetrica():\n",
    "    winsound.Beep(1000,200);\n",
    "    \n",
    "def FimBase():\n",
    "    winsound.Beep(2000,1000);"
   ]
  },
  {
   "cell_type": "code",
   "execution_count": 78,
   "metadata": {},
   "outputs": [
    {
     "name": "stdout",
     "output_type": "stream",
     "text": [
      "Done.\n"
     ]
    }
   ],
   "source": [
    "# Import all the algorithms we want to test\n",
    "from sklearn.svm import SVC\n",
    "from sklearn.naive_bayes import GaussianNB\n",
    "from sklearn.neighbors import KNeighborsClassifier\n",
    "from sklearn.neural_network import MLPClassifier\n",
    "from sklearn.ensemble import RandomForestClassifier\n",
    "from sklearn.tree import DecisionTreeClassifier\n",
    "\n",
    "from sklearn.model_selection import cross_val_score\n",
    "from sklearn import metrics\n",
    "\n",
    "# # Prepare an array with all the algorithms\n",
    "models = []\n",
    "models.append(('SVC', SVC()))\n",
    "models.append(('NB', GaussianNB()))\n",
    "models.append(('KNN', KNeighborsClassifier()))\n",
    "models.append(('MLP', MLPClassifier(hidden_layer_sizes=(200, ))))\n",
    "models.append(('RFC', RandomForestClassifier()))\n",
    "models.append(('DT', DecisionTreeClassifier()))\n",
    "# models.append(('DTR', DecisionTreeRegressor()))\n",
    "\n",
    "\n",
    "# Prepare the configuration to run the test\n",
    "seed = 7\n",
    "results = []\n",
    "names = []\n",
    "\n",
    "if '1' in CaminhoArquivo:\n",
    "    Y = classeD1\n",
    "else:\n",
    "    Y = classeD2\n",
    "\n",
    "if '25' or '50' in CaminhoArquivo:\n",
    "    X = base\n",
    "else:\n",
    "    X = base.drop('qtd', axis=1)\n",
    "\n",
    "print('Done.')"
   ]
  },
  {
   "cell_type": "code",
   "execution_count": 24,
   "metadata": {},
   "outputs": [
    {
     "data": {
      "image/png": "[encoded data removed]",
      "text/plain": [
       "<Figure size 432x288 with 1 Axes>"
      ]
     },
     "metadata": {
      "needs_background": "light"
     },
     "output_type": "display_data"
    },
    {
     "data": {
      "text/plain": [
       "<Figure size 432x288 with 0 Axes>"
      ]
     },
     "metadata": {},
     "output_type": "display_data"
    }
   ],
   "source": [
    "import matplotlib.pyplot as plt\n",
    "import seaborn as sns;\n",
    "\n",
    "def GerarGraficos():\n",
    "    fig = plt.figure()\n",
    "    # fig.suptitle('Comparação de Algortimos')\n",
    "    ax = fig.add_subplot(111)\n",
    "    medianprops = dict(linestyle='-', linewidth=2.5, color='purple')\n",
    "    ax.set_xlabel('Algoritmo')\n",
    "    ax.set_ylabel('Acurácia')\n",
    "    ax.set(ylim=(0.10, 1))\n",
    "    meanlineprops = dict(linestyle='-', linewidth=2.5, color='purple')\n",
    "    medianlineprops = dict(linestyle='-', linewidth=0)\n",
    "    # meanpointprops = dict(marker='D', markeredgecolor='black', markerfacecolor='firebrick')\n",
    "    plt.boxplot(results, meanprops=meanlineprops, medianprops=medianlineprops ,meanline=True, showmeans=True)\n",
    "    ax.set_xticklabels(names)\n",
    "    # plt.clf()\n",
    "    salvar='C:/Users/John/Desktop/Mestrado/Dissertacao/ProjetoBikes/Experimentos/NovosGraficos/'+arquivo\n",
    "    plt.savefig(salvar, bbox_inches='tight')\n",
    "    plt.figure(0).clear()\n",
    "    # plt.show()"
   ]
  },
  {
   "cell_type": "code",
   "execution_count": 79,
   "metadata": {},
   "outputs": [
    {
     "name": "stdout",
     "output_type": "stream",
     "text": [
      "SVC\n",
      "Acurácia:  0.45632082222589193\n",
      "Precisão:  0.4517539259484519\n",
      "Desvio P:  0.06490840324097275\n",
      "Recall:  0.4562695178384833\n",
      "---Restam:  5 ---\n",
      "NB\n",
      "Acurácia:  0.45004141535670944\n",
      "Precisão:  0.4341393940318567\n",
      "Desvio P:  0.041213687080696275\n",
      "Recall:  0.44996628601283783\n",
      "---Restam:  4 ---\n",
      "KNN\n",
      "Acurácia:  0.31794739725452886\n",
      "Precisão:  0.3120780714861474\n",
      "Desvio P:  0.04740762803944802\n",
      "Recall:  0.317718248992387\n",
      "---Restam:  3 ---\n",
      "MLP\n",
      "Acurácia:  0.47235590470274\n",
      "Precisão:  0.49090512323104446\n",
      "Desvio P:  0.04550075434154527\n",
      "Recall:  0.4625906478578893\n",
      "---Restam:  2 ---\n",
      "RFC\n",
      "Acurácia:  0.35205438517854476\n",
      "Precisão:  0.3538048810635056\n",
      "Desvio P:  0.07793274386719225\n",
      "Recall:  0.3478548514703687\n",
      "---Restam:  1 ---\n",
      "DT\n",
      "Acurácia:  0.3479513815166933\n",
      "Precisão:  0.3820370357505894\n",
      "Desvio P:  0.06463747583848387\n",
      "Recall:  0.3515118226600985\n",
      "---Restam:  0 ---\n",
      "---Gerando gráficos---\n",
      "FIM\n"
     ]
    },
    {
     "data": {
      "image/png": "[encoded data removed]",
      "text/plain": [
       "<Figure size 432x288 with 1 Axes>"
      ]
     },
     "metadata": {
      "needs_background": "light"
     },
     "output_type": "display_data"
    },
    {
     "data": {
      "text/plain": [
       "<Figure size 432x288 with 0 Axes>"
      ]
     },
     "metadata": {},
     "output_type": "display_data"
    }
   ],
   "source": [
    "# Every algorithm is tested and results are collected and printed\n",
    "import warnings\n",
    "warnings.simplefilter(\"ignore\")\n",
    "\n",
    "count=len(models)-1\n",
    "\n",
    "for name, model in models:\n",
    "    print(name)\n",
    "    \n",
    "    names.append(name)\n",
    "    results.append(cross_val_score(model, X, Y, cv=10, scoring='accuracy'))\n",
    "    FimMetrica()\n",
    "    \n",
    "    print ('Acurácia: ', cross_val_score(model, X, Y, cv=10, scoring='accuracy').mean())\n",
    "    FimMetrica()\n",
    "    print ('Precisão: ', cross_val_score(model, X, Y, cv=10, scoring='precision_macro').mean())\n",
    "    FimMetrica()\n",
    "    print ('Desvio P: ', cross_val_score(model, X, Y, cv=10, scoring='accuracy').std())\n",
    "    FimMetrica()\n",
    "    print ('Recall: ', cross_val_score(model, X, Y, cv=10, scoring='recall_macro').mean())\n",
    "    \n",
    "    FimAlgoritmo()\n",
    "    print ('---Restam: ',count,'---')\n",
    "    count-=1\n",
    "\n",
    "FimBase()    \n",
    "print('---Gerando gráficos---')\n",
    "GerarGraficos()\n",
    "print('FIM')"
   ]
  },
  {
   "cell_type": "code",
   "execution_count": 66,
   "metadata": {},
   "outputs": [],
   "source": [
    "# The chi-square test was applied in the new data sets to support the feature selection with a P<.01\n",
    "\n",
    "\n",
    "# Brier Score,\n",
    "# area under the receiver operating characteristic curve (AUROC), \n",
    "# and area under the precision-recall curve (AUPRC). "
   ]
  }
 ],
 "metadata": {
  "kernelspec": {
   "display_name": "Python 3",
   "language": "python",
   "name": "python3"
  },
  "language_info": {
   "codemirror_mode": {
    "name": "ipython",
    "version": 3
   },
   "file_extension": ".py",
   "mimetype": "text/x-python",
   "name": "python",
   "nbconvert_exporter": "python",
   "pygments_lexer": "ipython3",
   "version": "3.8.3"
  }
 },
 "nbformat": 4,
 "nbformat_minor": 4
}
