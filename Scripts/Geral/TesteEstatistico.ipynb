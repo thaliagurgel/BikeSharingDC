{
 "cells": [
  {
   "cell_type": "code",
   "execution_count": 57,
   "metadata": {},
   "outputs": [
    {
     "data": {
      "text/html": [
       "<div>\n",
       "<style scoped>\n",
       "    .dataframe tbody tr th:only-of-type {\n",
       "        vertical-align: middle;\n",
       "    }\n",
       "\n",
       "    .dataframe tbody tr th {\n",
       "        vertical-align: top;\n",
       "    }\n",
       "\n",
       "    .dataframe thead th {\n",
       "        text-align: right;\n",
       "    }\n",
       "</style>\n",
       "<table border=\"1\" class=\"dataframe\">\n",
       "  <thead>\n",
       "    <tr style=\"text-align: right;\">\n",
       "      <th></th>\n",
       "      <th>Base</th>\n",
       "      <th>SVC</th>\n",
       "      <th>NB</th>\n",
       "      <th>KNN</th>\n",
       "      <th>MLP</th>\n",
       "      <th>RFC</th>\n",
       "      <th>DT</th>\n",
       "    </tr>\n",
       "  </thead>\n",
       "  <tbody>\n",
       "    <tr>\n",
       "      <th>0</th>\n",
       "      <td>Base 3</td>\n",
       "      <td>56.38</td>\n",
       "      <td>60.94</td>\n",
       "      <td>52.91</td>\n",
       "      <td>54.80</td>\n",
       "      <td>65.44</td>\n",
       "      <td>75.08</td>\n",
       "    </tr>\n",
       "    <tr>\n",
       "      <th>1</th>\n",
       "      <td>Base 4</td>\n",
       "      <td>36.47</td>\n",
       "      <td>44.63</td>\n",
       "      <td>35.07</td>\n",
       "      <td>41.13</td>\n",
       "      <td>60.14</td>\n",
       "      <td>70.65</td>\n",
       "    </tr>\n",
       "    <tr>\n",
       "      <th>2</th>\n",
       "      <td>Base 5</td>\n",
       "      <td>66.32</td>\n",
       "      <td>60.94</td>\n",
       "      <td>46.48</td>\n",
       "      <td>71.88</td>\n",
       "      <td>65.90</td>\n",
       "      <td>74.63</td>\n",
       "    </tr>\n",
       "    <tr>\n",
       "      <th>3</th>\n",
       "      <td>Base 6</td>\n",
       "      <td>50.55</td>\n",
       "      <td>44.63</td>\n",
       "      <td>34.87</td>\n",
       "      <td>66.92</td>\n",
       "      <td>60.74</td>\n",
       "      <td>70.77</td>\n",
       "    </tr>\n",
       "    <tr>\n",
       "      <th>4</th>\n",
       "      <td>Base 7</td>\n",
       "      <td>65.51</td>\n",
       "      <td>63.31</td>\n",
       "      <td>45.95</td>\n",
       "      <td>73.69</td>\n",
       "      <td>61.55</td>\n",
       "      <td>62.97</td>\n",
       "    </tr>\n",
       "    <tr>\n",
       "      <th>5</th>\n",
       "      <td>Base 8</td>\n",
       "      <td>63.35</td>\n",
       "      <td>62.90</td>\n",
       "      <td>47.87</td>\n",
       "      <td>61.79</td>\n",
       "      <td>50.79</td>\n",
       "      <td>51.31</td>\n",
       "    </tr>\n",
       "    <tr>\n",
       "      <th>6</th>\n",
       "      <td>Base 9</td>\n",
       "      <td>49.68</td>\n",
       "      <td>44.27</td>\n",
       "      <td>34.42</td>\n",
       "      <td>33.51</td>\n",
       "      <td>51.37</td>\n",
       "      <td>53.49</td>\n",
       "    </tr>\n",
       "    <tr>\n",
       "      <th>7</th>\n",
       "      <td>Base 10</td>\n",
       "      <td>45.63</td>\n",
       "      <td>45.00</td>\n",
       "      <td>31.79</td>\n",
       "      <td>47.23</td>\n",
       "      <td>35.20</td>\n",
       "      <td>34.79</td>\n",
       "    </tr>\n",
       "  </tbody>\n",
       "</table>\n",
       "</div>"
      ],
      "text/plain": [
       "      Base    SVC     NB    KNN    MLP    RFC     DT\n",
       "0   Base 3  56.38  60.94  52.91  54.80  65.44  75.08\n",
       "1   Base 4  36.47  44.63  35.07  41.13  60.14  70.65\n",
       "2   Base 5  66.32  60.94  46.48  71.88  65.90  74.63\n",
       "3   Base 6  50.55  44.63  34.87  66.92  60.74  70.77\n",
       "4   Base 7  65.51  63.31  45.95  73.69  61.55  62.97\n",
       "5   Base 8  63.35  62.90  47.87  61.79  50.79  51.31\n",
       "6   Base 9  49.68  44.27  34.42  33.51  51.37  53.49\n",
       "7  Base 10  45.63  45.00  31.79  47.23  35.20  34.79"
      ]
     },
     "execution_count": 57,
     "metadata": {},
     "output_type": "execute_result"
    }
   ],
   "source": [
    "import pandas as pd\n",
    "import numpy as np\n",
    "from scipy import stats\n",
    "import matplotlib.pyplot as plt\n",
    "from scipy.stats import wilcoxon, friedmanchisquare, rankdata\n",
    "from Orange.evaluation import compute_CD, graph_ranks \n",
    "\n",
    "CaminhoArquivo = 'C:/Users/John/Desktop/Mestrado/Dissertacao/ProjetoBikes/Experimentos/ResultadosClassificacaoCidade.csv'\n",
    "\n",
    "resultados = pd.read_csv(CaminhoArquivo, sep=';');\n",
    "resultados.head(10)"
   ]
  },
  {
   "cell_type": "code",
   "execution_count": 58,
   "metadata": {},
   "outputs": [],
   "source": [
    "# Extrai o nome dos algoritmos.\n",
    "algoritmos_nomes = resultados.drop('Base', axis=1).columns"
   ]
  },
  {
   "cell_type": "code",
   "execution_count": 59,
   "metadata": {},
   "outputs": [],
   "source": [
    "# Extrai as acurácias em um numpy.ndarray.\n",
    "resultados_array = resultados[algoritmos_nomes].values"
   ]
  },
  {
   "cell_type": "code",
   "execution_count": 60,
   "metadata": {},
   "outputs": [
    {
     "data": {
      "text/plain": [
       "FriedmanchisquareResult(statistic=26.187250996015916, pvalue=0.00046629871439958975)"
      ]
     },
     "execution_count": 60,
     "metadata": {},
     "output_type": "execute_result"
    }
   ],
   "source": [
    "# Aplica o Friedman test.\n",
    "friedmanchisquare(*resultados_array)"
   ]
  },
  {
   "cell_type": "code",
   "execution_count": 61,
   "metadata": {},
   "outputs": [],
   "source": [
    "ranks = np.array([rankdata(-p) for p in resultados_array])"
   ]
  },
  {
   "cell_type": "code",
   "execution_count": 62,
   "metadata": {},
   "outputs": [],
   "source": [
    "# Calculating the average ranks.\n",
    "average_ranks = np.mean(ranks, axis=0)"
   ]
  },
  {
   "cell_type": "code",
   "execution_count": 63,
   "metadata": {},
   "outputs": [
    {
     "name": "stdout",
     "output_type": "stream",
     "text": [
      "SVC average rank: 3.0\n",
      "NB average rank: 3.5\n",
      "KNN average rank: 5.875\n",
      "MLP average rank: 3.0\n",
      "RFC average rank: 3.375\n",
      "DT average rank: 2.25\n"
     ]
    }
   ],
   "source": [
    "print('\\n'.join('{} average rank: {}'.format(a, r) for a, r in zip(algoritmos_nomes, average_ranks)))"
   ]
  },
  {
   "cell_type": "code",
   "execution_count": 94,
   "metadata": {},
   "outputs": [
    {
     "data": {
      "image/png": "[encoded data removed]",
      "text/plain": [
       "<Figure size 576x133.2 with 1 Axes>"
      ]
     },
     "metadata": {},
     "output_type": "display_data"
    },
    {
     "data": {
      "text/plain": [
       "<Figure size 432x288 with 0 Axes>"
      ]
     },
     "metadata": {},
     "output_type": "display_data"
    }
   ],
   "source": [
    "# This method computes the critical difference for Nemenyi test with alpha=0.1. # For some reason, this method only accepts alpha='0.05' or alpha='0.1'.\n",
    "cd = compute_CD(average_ranks, n=len(resultados), alpha='0.1', test='nemenyi')\n",
    "# This method generates the plot.\n",
    "graph_ranks(average_ranks, names=algoritmos_nomes, cd=cd, width=8, textspace=0.5, reverse=True)\n",
    "salvar='C:/Users/John/Desktop/Mestrado/Dissertacao/ProjetoBikes/Experimentos/ResultadosClassificacaoCidade'\n",
    "plt.savefig(salvar, bbox_inches='tight')\n",
    "plt.figure(0).clear()"
   ]
  },
  {
   "cell_type": "code",
   "execution_count": 95,
   "metadata": {},
   "outputs": [
    {
     "data": {
      "image/png": "[encoded data removed]",
      "text/plain": [
       "<Figure size 576x108 with 1 Axes>"
      ]
     },
     "metadata": {},
     "output_type": "display_data"
    }
   ],
   "source": [
    "cd = compute_CD(average_ranks, n=len(resultados), alpha='0.05', test='bonferroni-dunn')\n",
    "graph_ranks(average_ranks, names=algoritmos_nomes, cd=cd, cdmethod=0, width=8, textspace=0.5, reverse=True)\n",
    "plt.show()"
   ]
  }
 ],
 "metadata": {
  "kernelspec": {
   "display_name": "Python 3",
   "language": "python",
   "name": "python3"
  },
  "language_info": {
   "codemirror_mode": {
    "name": "ipython",
    "version": 3
   },
   "file_extension": ".py",
   "mimetype": "text/x-python",
   "name": "python",
   "nbconvert_exporter": "python",
   "pygments_lexer": "ipython3",
   "version": "3.8.3"
  }
 },
 "nbformat": 4,
 "nbformat_minor": 4
}
